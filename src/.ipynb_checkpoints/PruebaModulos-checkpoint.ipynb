{
 "cells": [
  {
   "cell_type": "code",
   "execution_count": 1,
   "id": "neutral-model",
   "metadata": {},
   "outputs": [],
   "source": [
    "from sklearn.datasets import make_moons\n",
    "import numpy as np\n",
    "import matplotlib.pyplot as plt\n",
    "\n",
    "from sklearn.cluster import KMeans\n",
    "from sklearn.metrics.pairwise import euclidean_distances\n",
    "\n",
    "\n",
    "from keras import optimizers\n",
    "from keras.models import Sequential\n",
    "from keras.layers import Dense\n",
    "\n",
    "from DEN import DENlayer\n",
    "from DMN import DMNlayer\n",
    "from DSN import DSNlayer\n",
    "\n",
    "\n",
    "\n",
    "\n",
    "from PreTrain.HpC import HSpC\n",
    "from PreTrain.HpC import HEpC\n",
    "from PreTrain.HpC import HBpC\n",
    "\n",
    "from PreTrain.kmeans import bkmeans\n",
    "from PreTrain.kmeans import ekmeans\n",
    "from PreTrain.kmeans import skmeans\n",
    "\n",
    "#HEpC, HSpC\n",
    "\n",
    "#from PreTrain.kmeans import bkmeans, ekmeans, skmeans"
   ]
  },
  {
   "cell_type": "code",
   "execution_count": 2,
   "id": "educated-silly",
   "metadata": {},
   "outputs": [
    {
     "data": {
      "image/png": "[encoded data removed]",
      "text/plain": [
       "<Figure size 432x288 with 1 Axes>"
      ]
     },
     "metadata": {
      "needs_background": "light"
     },
     "output_type": "display_data"
    }
   ],
   "source": [
    "x,y = make_moons(n_samples=100, shuffle=True, noise=None, random_state=None)\n",
    "x=x*1\n",
    "\n",
    "\n",
    "fig, ax = plt.subplots()\n",
    "\n",
    "ax.scatter(x[:, 0], x[:, 1], marker='o', c=y,\n",
    "            s=25, edgecolor='k')\n",
    "\n",
    "\n",
    "plt.show()\n"
   ]
  },
  {
   "cell_type": "code",
   "execution_count": 3,
   "id": "curious-brazil",
   "metadata": {},
   "outputs": [
    {
     "name": "stdout",
     "output_type": "stream",
     "text": [
      "Clusters n [0 1 2]\n",
      "clusters [[ 1.22252093 -0.47492791]\n",
      " [ 1.34536505 -0.43846842]\n",
      " [ 0.77747907 -0.47492791]\n",
      " [ 1.03205158 -0.49948622]\n",
      " [ 0.53746171 -0.38659931]\n",
      " [ 1.46253829 -0.38659931]\n",
      " [ 0.96794842 -0.49948622]\n",
      " [ 0.71547241 -0.45866785]\n",
      " [ 1.40478334 -0.41441262]\n",
      " [ 0.8404001  -0.48718178]\n",
      " [ 1.1595999  -0.48718178]\n",
      " [ 1.09602303 -0.49537911]\n",
      " [ 1.28452759 -0.45866785]\n",
      " [ 0.48160743 -0.35514276]\n",
      " [ 0.90397697 -0.49537911]\n",
      " [ 0.59521666 -0.41441262]\n",
      " [ 0.65463495 -0.43846842]]\n",
      "Dimensiones 2\n",
      "clusters [[ 0.3765102  -0.28183148]\n",
      " [ 0.00205461  0.43592978]\n",
      " [ 0.07308324  0.124733  ]\n",
      " [ 0.42788334 -0.32017225]\n",
      " [ 0.05094425  0.18489178]\n",
      " [ 0.03270514  0.24634542]\n",
      " [ 0.09903113  0.06611626]\n",
      " [ 0.28165065 -0.19568255]\n",
      " [ 0.1286813   0.00928245]\n",
      " [ 0.23855404 -0.1482284 ]\n",
      " [ 0.32769911 -0.240278  ]\n",
      " [ 0.00820999  0.37212284]\n",
      " [ 0.1619119  -0.0455349 ]\n",
      " [ 0.19858638 -0.09811053]\n",
      " [ 0.          0.5       ]\n",
      " [ 0.01844084  0.30884137]]\n",
      "Dimensiones 2\n",
      "clusters [[ 1.96729486  0.24634542]\n",
      " [ 1.6234898  -0.28183148]\n",
      " [ 1.80141362 -0.09811053]\n",
      " [ 1.51839257 -0.35514276]\n",
      " [ 1.76144596 -0.1482284 ]\n",
      " [ 1.71834935 -0.19568255]\n",
      " [ 1.57211666 -0.32017225]\n",
      " [ 1.98155916  0.30884137]\n",
      " [ 2.          0.5       ]\n",
      " [ 1.92691676  0.124733  ]\n",
      " [ 1.67230089 -0.240278  ]\n",
      " [ 1.94905575  0.18489178]\n",
      " [ 1.99179001  0.37212284]\n",
      " [ 1.8713187   0.00928245]\n",
      " [ 1.99794539  0.43592978]\n",
      " [ 1.90096887  0.06611626]\n",
      " [ 1.8380881  -0.0455349 ]]\n",
      "Dimensiones 2\n"
     ]
    }
   ],
   "source": [
    "#y=[0,0,1,0,0]\n",
    "unidades=3\n",
    "dendrites  = HBpC.HBpC(x,y,0.0001)\n",
    "dendrites  = HEpC.HEpC(x,y)\n",
    "dendrites  = HSpC.HSpC(x,y,0.0001)\n",
    "dendrites  = bkmeans.bkmeans(x,y,[3,3,3],0.01)\n",
    "dendrites  = ekmeans.ekmeans(x,y,[3])\n",
    "dendrites  = skmeans.skmeans(x,y,[2],0.01)\n",
    "\n"
   ]
  },
  {
   "cell_type": "code",
   "execution_count": 10,
   "id": "d4266ecc",
   "metadata": {},
   "outputs": [
    {
     "name": "stdout",
     "output_type": "stream",
     "text": [
      "[1 1 1 0 0 1 0 1 1 1 0 0 1 1 0 1 0 1 0 0 1 0 1 1 0 0 0 0 1 1 0 1 1 0 0 1 1\n",
      " 1 1 0 0 1 0 1 1 1 1 0 0 1 0 0 0 1 1 1 1 0 0 1 0 1 0 1 1 1 0 0 0 0 0 0 0 1\n",
      " 1 1 0 0 1 1 0 0 0 0 0 0 1 1 0 0 1 1 0 0 0 0 1 1 1 1]\n"
     ]
    },
    {
     "data": {
      "text/plain": [
       "([-1.0001, -0.0001], [1.0001, 0.9995862162006879])"
      ]
     },
     "execution_count": 10,
     "metadata": {},
     "output_type": "execute_result"
    }
   ],
   "source": [
    "len(dendrites[0])\n",
    "print(y)\n",
    "dendrites"
   ]
  },
  {
   "cell_type": "code",
   "execution_count": null,
   "id": "73e8ec46",
   "metadata": {
    "scrolled": true
   },
   "outputs": [],
   "source": [
    "\n",
    "\n",
    "def TestModel():  \n",
    "   model = Sequential()\n",
    "   model.add(DENlayer(2,dendrites, activation = \"sigmoid\", input_shape = (np.shape(x)[1],)))\n",
    "   #model.add(Dense(3, activation = 'relu' ))\n",
    "   model.add(Dense(1)) \n",
    "   return model\n",
    "\n",
    "model = TestModel()\n",
    "model.summary()\n",
    "model.compile(optimizer = optimizers.RMSprop(lr = 0.05),\n",
    "             loss = 'binary_crossentropy',\n",
    "             metrics = ['accuracy'])\n"
   ]
  },
  {
   "cell_type": "code",
   "execution_count": null,
   "id": "a1d0d448",
   "metadata": {},
   "outputs": [],
   "source": [
    "history = model.fit(x, y,\n",
    "                     epochs = 10,\n",
    "                     batch_size = 128)"
   ]
  },
  {
   "cell_type": "code",
   "execution_count": null,
   "id": "58b6bffb",
   "metadata": {},
   "outputs": [],
   "source": [
    "from mlxtend.plotting import plot_decision_regions\n",
    "plot_decision_regions(x,y, clf=model, legend=2)\n",
    "print(model.weights)\n"
   ]
  },
  {
   "cell_type": "code",
   "execution_count": null,
   "id": "8d87e63e",
   "metadata": {},
   "outputs": [],
   "source": [
    "from mlxtend.plotting import plot_decision_regions\n",
    "plot_decision_regions(x,y, clf=model, legend=2)\n",
    "print(model.weights)\n"
   ]
  },
  {
   "cell_type": "code",
   "execution_count": null,
   "id": "cbdaa8fc",
   "metadata": {},
   "outputs": [],
   "source": [
    "# Decision Boundary\n",
    "h = 0.02\n",
    "scale = 10\n",
    "x_min, x_max = x[:, 0].min() - scale, x[:, 0].max() + scale\n",
    "y_min, y_max = x[:, 1].min() - scale, x[:, 1].max() + scale\n",
    "xx, yy = np.meshgrid(np.arange(x_min, x_max, h),\n",
    "                     np.arange(y_min, y_max, h))\n",
    "\n",
    "Z = np.c_[xx.ravel(), yy.ravel()]\n",
    "out = model.predict(Z, batch_size = 1024, verbose = 0)\n",
    "\n",
    "out = (out >= 0.5).astype(int)\n",
    "out = out.reshape(xx.shape)\n",
    "\n",
    "plt.contourf(xx, yy, out)\n",
    "plt.scatter(x[:, 0], x[:, 1], c = y)\n",
    "plt.xlabel('x1')\n",
    "plt.ylabel('x2')"
   ]
  },
  {
   "cell_type": "code",
   "execution_count": null,
   "id": "282d80b7",
   "metadata": {},
   "outputs": [],
   "source": [
    "h = 0.02\n",
    "scale = 1\n",
    "x_min, x_max = x[:, 0].min() - scale, x[:, 0].max() + scale\n",
    "y_min, y_max = x[:, 1].min() - scale, x[:, 1].max() + scale\n",
    "xx, yy = np.meshgrid(np.arange(x_min, x_max, h),\n",
    "                     np.arange(y_min, y_max, h))\n",
    "\n",
    "Z = np.c_[xx.ravel(), yy.ravel()]\n",
    "out = model.predict(Z, batch_size = 1024, verbose = 0)\n",
    "\n",
    "out = (out <= 0.5).astype(int)\n",
    "out = out.reshape(xx.shape)\n",
    "\n",
    "plt.contourf(xx, yy, out)\n",
    "plt.scatter(x[:, 0], x[:, 1], c = y)\n",
    "plt.xlabel('x1')\n",
    "plt.ylabel('x2')"
   ]
  },
  {
   "cell_type": "code",
   "execution_count": null,
   "id": "5dab075b",
   "metadata": {},
   "outputs": [],
   "source": [
    "from sklearn.datasets import make_blobs\n",
    "from keras.utils import to_categorical\n",
    "\n",
    "Xb, yb = make_blobs(n_samples=300, centers=3, n_features=2,\n",
    "                  random_state=0)\n",
    "\n",
    "Yb = to_categorical(yb)\n",
    "#Yb = Yb[:,1:] \n",
    "#print(Yb)\n",
    "\n",
    "\n",
    "\n",
    "fig, ax = plt.subplots()\n",
    "\n",
    "ax.scatter(Xb[:, 0], Xb[:, 1], marker='o', c=yb,\n",
    "            s=25, edgecolor='k')\n",
    "\n",
    "plt.show()"
   ]
  },
  {
   "cell_type": "code",
   "execution_count": null,
   "id": "40be5a56",
   "metadata": {},
   "outputs": [],
   "source": [
    "print(len(yb))\n",
    "#dendrites = HBpC(Xb,yb)\n",
    "#dendrites = HEpC(Xb,yb)\n",
    "dendrites = HSpC.HSpC(Xb,yb)\n",
    "#dendrites = bkmeans(Xb,yb,[3,3,3])\n",
    "#dendrites = ekmeans(Xb,yb,[5,5,5])\n",
    "#dendrites = skmeans(Xb,yb,[5,5,5])\n",
    "\n",
    "print(dendrites)\n"
   ]
  },
  {
   "cell_type": "code",
   "execution_count": null,
   "id": "400f5673",
   "metadata": {},
   "outputs": [],
   "source": [
    "dendrites[0].shape"
   ]
  },
  {
   "cell_type": "code",
   "execution_count": null,
   "id": "cccdbf75",
   "metadata": {},
   "outputs": [],
   "source": [
    "def TestModel():  \n",
    "   model = Sequential()\n",
    "   model.add(DSNlayer(40, dendrites,activation='relu', input_shape = (np.shape(Xb)[1],)))\n",
    "   \n",
    "   #model.add(DENlayer(6, activation = 'sigmoid' ))\n",
    "   model.add(Dense(3, activation = 'softmax')) \n",
    "   return model\n",
    "\n",
    "#yb =  to_categorical(yb, dtype =\"uint8\") \n",
    "\n",
    "model = TestModel()\n",
    "model.summary()\n",
    "model.compile(optimizer = optimizers.RMSprop(lr = 0.01),\n",
    "             loss = 'categorical_crossentropy',\n",
    "             metrics = ['accuracy'])\n",
    "\n"
   ]
  },
  {
   "cell_type": "code",
   "execution_count": null,
   "id": "b939d414",
   "metadata": {},
   "outputs": [],
   "source": [
    "history = model.fit(Xb, Yb,\n",
    "                    epochs = 2000,\n",
    "                    batch_size = 128)\n"
   ]
  },
  {
   "cell_type": "code",
   "execution_count": null,
   "id": "c841bec2",
   "metadata": {},
   "outputs": [],
   "source": [
    "# Decision Boundary\n",
    "h = 0.02\n",
    "scale = 1\n",
    "x_min, x_max = Xb[:, 0].min() - scale, Xb[:, 0].max() + scale\n",
    "y_min, y_max = Xb[:, 1].min() - scale, Xb[:, 1].max() + scale\n",
    "xx, yy = np.meshgrid(np.arange(x_min, x_max, h),\n",
    "                     np.arange(y_min, y_max, h))\n",
    "\n",
    "Z = np.c_[xx.ravel(), yy.ravel()]\n",
    "out = model.predict(Z, batch_size = 1024, verbose = 0)\n",
    "print(out.shape)\n",
    "\n",
    "print(type(out))\n",
    "out2 = np.zeros(out.shape[0])\n",
    "\n",
    "for n in range(out.shape[0]):\n",
    "    out2[n] = np.argmax(out[n])\n",
    "          \n",
    "    \n",
    "print((out2))\n",
    "out2 = out2.reshape(xx.shape)\n",
    "\n",
    "#out = (out >= 0.5).astype(int)\n",
    "#out = out.reshape(xx.shape)\n",
    "\n",
    "plt.contourf(xx, yy, out2)\n",
    "plt.scatter(Xb[:, 0], Xb[:, 1], c = yb)\n",
    "plt.xlabel('x1')\n",
    "plt.ylabel('x2')"
   ]
  }
 ],
 "metadata": {
  "kernelspec": {
   "display_name": "Python 3",
   "language": "python",
   "name": "python3"
  },
  "language_info": {
   "codemirror_mode": {
    "name": "ipython",
    "version": 3
   },
   "file_extension": ".py",
   "mimetype": "text/x-python",
   "name": "python",
   "nbconvert_exporter": "python",
   "pygments_lexer": "ipython3",
   "version": "3.8.8"
  }
 },
 "nbformat": 4,
 "nbformat_minor": 5
}
