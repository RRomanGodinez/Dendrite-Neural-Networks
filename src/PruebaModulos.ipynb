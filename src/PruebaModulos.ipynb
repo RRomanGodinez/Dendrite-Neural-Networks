{
 "cells": [
  {
   "cell_type": "code",
   "execution_count": 11,
   "id": "neutral-model",
   "metadata": {},
   "outputs": [],
   "source": [
    "from sklearn.datasets import make_moons\n",
    "import numpy as np\n",
    "import matplotlib.pyplot as plt\n",
    "\n",
    "from sklearn.cluster import KMeans\n",
    "from sklearn.metrics.pairwise import euclidean_distances\n",
    "\n",
    "\n",
    "from tensorflow.keras import optimizers\n",
    "from keras.models import Sequential\n",
    "from keras.layers import Dense\n",
    "\n",
    "from DEN import DENlayer\n",
    "from DMN import DMNlayer\n",
    "from DSN import DSNlayer\n",
    "\n",
    "\n",
    "\n",
    "\n",
    "from PreTrain.HpC import HSpC\n",
    "from PreTrain.HpC import HEpC\n",
    "from PreTrain.HpC import HBpC\n",
    "\n",
    "from PreTrain.kmeans import bkmeans\n",
    "from PreTrain.kmeans import ekmeans\n",
    "from PreTrain.kmeans import skmeans\n",
    "\n",
    "#HEpC, HSpC\n",
    "\n",
    "#from PreTrain.kmeans import bkmeans, ekmeans, skmeans"
   ]
  },
  {
   "cell_type": "code",
   "execution_count": 2,
   "id": "educated-silly",
   "metadata": {},
   "outputs": [
    {
     "data": {
      "image/png": "[encoded data removed]",
      "text/plain": [
       "<Figure size 432x288 with 1 Axes>"
      ]
     },
     "metadata": {
      "needs_background": "light"
     },
     "output_type": "display_data"
    }
   ],
   "source": [
    "x,y = make_moons(n_samples=100, shuffle=True, noise=None, random_state=None)\n",
    "x=x*1\n",
    "\n",
    "\n",
    "fig, ax = plt.subplots()\n",
    "\n",
    "ax.scatter(x[:, 0], x[:, 1], marker='o', c=y,\n",
    "            s=25, edgecolor='k')\n",
    "\n",
    "\n",
    "plt.show()\n"
   ]
  },
  {
   "cell_type": "code",
   "execution_count": 5,
   "id": "curious-brazil",
   "metadata": {},
   "outputs": [],
   "source": [
    "#y=[0,0,1,0,0]\n",
    "unidades=3\n",
    "dendrites  = HBpC.HBpC(x,y,0.0001)\n",
    "dendrites  = HEpC.HEpC(x,y)\n",
    "dendrites  = HSpC.HSpC(x,y,0.0001)\n",
    "dendrites  = bkmeans.bkmeans(x,y,[3,3,3],0.01)\n",
    "dendrites  = ekmeans.ekmeans(x,y,[3])\n",
    "dendrites  = skmeans.skmeans(x,y,[unidades],0.01)\n",
    "\n"
   ]
  },
  {
   "cell_type": "code",
   "execution_count": 6,
   "id": "d4266ecc",
   "metadata": {},
   "outputs": [
    {
     "name": "stdout",
     "output_type": "stream",
     "text": [
      "[1 1 0 1 0 0 0 1 0 0 1 1 1 0 0 1 1 0 1 0 0 1 0 0 1 0 0 1 1 0 0 0 1 0 1 0 0\n",
      " 1 0 0 0 0 1 0 0 1 1 1 0 1 0 1 1 1 1 1 0 1 0 1 0 1 1 0 0 1 1 1 0 0 1 1 0 1\n",
      " 0 1 0 1 1 0 0 1 1 1 0 1 0 1 0 0 0 1 1 1 0 1 0 1 0 0]\n"
     ]
    },
    {
     "data": {
      "text/plain": [
       "(array([[[-0.84837837,  0.44259845]],\n",
       " \n",
       "        [[ 0.80861026,  0.49018429]],\n",
       " \n",
       "        [[-0.06130818,  0.95492437]]]),\n",
       " array([0.47784881, 0.53622303, 0.47784881]))"
      ]
     },
     "execution_count": 6,
     "metadata": {},
     "output_type": "execute_result"
    }
   ],
   "source": [
    "len(dendrites[0])\n",
    "print(y)\n",
    "dendrites"
   ]
  },
  {
   "cell_type": "code",
   "execution_count": 30,
   "id": "73e8ec46",
   "metadata": {
    "scrolled": true
   },
   "outputs": [
    {
     "name": "stdout",
     "output_type": "stream",
     "text": [
      "Model: \"sequential_8\"\n",
      "_________________________________________________________________\n",
      " Layer (type)                Output Shape              Param #   \n",
      "=================================================================\n",
      " ds_nlayer_8 (DSNlayer)      (None, 3)                 9         \n",
      "                                                                 \n",
      " dense_8 (Dense)             (None, 1)                 4         \n",
      "                                                                 \n",
      "=================================================================\n",
      "Total params: 13\n",
      "Trainable params: 13\n",
      "Non-trainable params: 0\n",
      "_________________________________________________________________\n"
     ]
    }
   ],
   "source": [
    "\n",
    "\n",
    "def TestModel():  \n",
    "   model = Sequential()\n",
    "   model.add(DSNlayer(2,dendrites, activation = \"tanh\", input_shape = (np.shape(x)[1],)))\n",
    "   #model.add(Dense(3, activation = 'relu' ))\n",
    "   model.add(Dense(1, activation = 'sigmoid')) \n",
    "   return model\n",
    "\n",
    "model = TestModel()\n",
    "model.summary()\n",
    "model.compile(optimizer = optimizers.RMSprop(learning_rate = 0.1),\n",
    "             loss = 'binary_crossentropy',\n",
    "             metrics = ['accuracy'])\n"
   ]
  },
  {
   "cell_type": "code",
   "execution_count": 31,
   "id": "a1d0d448",
   "metadata": {},
   "outputs": [
    {
     "name": "stdout",
     "output_type": "stream",
     "text": [
      "Epoch 1/100\n",
      "1/1 [==============================] - 0s 456ms/step - loss: 0.7279 - accuracy: 0.6400\n",
      "Epoch 2/100\n",
      "1/1 [==============================] - 0s 2ms/step - loss: 0.5195 - accuracy: 0.8100\n",
      "Epoch 3/100\n",
      "1/1 [==============================] - 0s 3ms/step - loss: 0.4921 - accuracy: 0.7800\n",
      "Epoch 4/100\n",
      "1/1 [==============================] - 0s 3ms/step - loss: 0.4518 - accuracy: 0.8300\n",
      "Epoch 5/100\n",
      "1/1 [==============================] - 0s 3ms/step - loss: 0.4113 - accuracy: 0.8200\n",
      "Epoch 6/100\n",
      "1/1 [==============================] - 0s 3ms/step - loss: 0.3869 - accuracy: 0.8700\n",
      "Epoch 7/100\n",
      "1/1 [==============================] - 0s 2ms/step - loss: 0.3718 - accuracy: 0.8400\n",
      "Epoch 8/100\n",
      "1/1 [==============================] - 0s 2ms/step - loss: 0.3615 - accuracy: 0.8700\n",
      "Epoch 9/100\n",
      "1/1 [==============================] - 0s 4ms/step - loss: 0.3574 - accuracy: 0.8400\n",
      "Epoch 10/100\n",
      "1/1 [==============================] - 0s 2ms/step - loss: 0.3586 - accuracy: 0.8800\n",
      "Epoch 11/100\n",
      "1/1 [==============================] - 0s 3ms/step - loss: 0.3548 - accuracy: 0.8400\n",
      "Epoch 12/100\n",
      "1/1 [==============================] - 0s 2ms/step - loss: 0.3496 - accuracy: 0.8800\n",
      "Epoch 13/100\n",
      "1/1 [==============================] - 0s 2ms/step - loss: 0.3370 - accuracy: 0.8500\n",
      "Epoch 14/100\n",
      "1/1 [==============================] - 0s 2ms/step - loss: 0.3279 - accuracy: 0.8800\n",
      "Epoch 15/100\n",
      "1/1 [==============================] - 0s 3ms/step - loss: 0.3189 - accuracy: 0.8600\n",
      "Epoch 16/100\n",
      "1/1 [==============================] - 0s 2ms/step - loss: 0.3145 - accuracy: 0.8900\n",
      "Epoch 17/100\n",
      "1/1 [==============================] - 0s 3ms/step - loss: 0.3102 - accuracy: 0.8600\n",
      "Epoch 18/100\n",
      "1/1 [==============================] - 0s 3ms/step - loss: 0.3094 - accuracy: 0.9000\n",
      "Epoch 19/100\n",
      "1/1 [==============================] - 0s 3ms/step - loss: 0.3069 - accuracy: 0.8700\n",
      "Epoch 20/100\n",
      "1/1 [==============================] - 0s 3ms/step - loss: 0.3057 - accuracy: 0.9000\n",
      "Epoch 21/100\n",
      "1/1 [==============================] - 0s 3ms/step - loss: 0.3009 - accuracy: 0.8800\n",
      "Epoch 22/100\n",
      "1/1 [==============================] - 0s 3ms/step - loss: 0.2965 - accuracy: 0.9000\n",
      "Epoch 23/100\n",
      "1/1 [==============================] - 0s 3ms/step - loss: 0.2905 - accuracy: 0.8800\n",
      "Epoch 24/100\n",
      "1/1 [==============================] - 0s 2ms/step - loss: 0.2858 - accuracy: 0.9000\n",
      "Epoch 25/100\n",
      "1/1 [==============================] - 0s 3ms/step - loss: 0.2815 - accuracy: 0.8900\n",
      "Epoch 26/100\n",
      "1/1 [==============================] - 0s 3ms/step - loss: 0.2784 - accuracy: 0.9100\n",
      "Epoch 27/100\n",
      "1/1 [==============================] - 0s 3ms/step - loss: 0.2762 - accuracy: 0.8900\n",
      "Epoch 28/100\n",
      "1/1 [==============================] - 0s 3ms/step - loss: 0.2741 - accuracy: 0.9200\n",
      "Epoch 29/100\n",
      "1/1 [==============================] - 0s 3ms/step - loss: 0.2728 - accuracy: 0.8900\n",
      "Epoch 30/100\n",
      "1/1 [==============================] - 0s 2ms/step - loss: 0.2699 - accuracy: 0.9200\n",
      "Epoch 31/100\n",
      "1/1 [==============================] - 0s 3ms/step - loss: 0.2678 - accuracy: 0.8900\n",
      "Epoch 32/100\n",
      "1/1 [==============================] - 0s 2ms/step - loss: 0.2634 - accuracy: 0.9200\n",
      "Epoch 33/100\n",
      "1/1 [==============================] - 0s 2ms/step - loss: 0.2608 - accuracy: 0.9000\n",
      "Epoch 34/100\n",
      "1/1 [==============================] - 0s 2ms/step - loss: 0.2560 - accuracy: 0.9200\n",
      "Epoch 35/100\n",
      "1/1 [==============================] - 0s 3ms/step - loss: 0.2541 - accuracy: 0.9100\n",
      "Epoch 36/100\n",
      "1/1 [==============================] - 0s 3ms/step - loss: 0.2500 - accuracy: 0.9200\n",
      "Epoch 37/100\n",
      "1/1 [==============================] - 0s 2ms/step - loss: 0.2494 - accuracy: 0.9100\n",
      "Epoch 38/100\n",
      "1/1 [==============================] - 0s 3ms/step - loss: 0.2457 - accuracy: 0.9200\n",
      "Epoch 39/100\n",
      "1/1 [==============================] - 0s 3ms/step - loss: 0.2459 - accuracy: 0.9100\n",
      "Epoch 40/100\n",
      "1/1 [==============================] - 0s 2ms/step - loss: 0.2418 - accuracy: 0.9300\n",
      "Epoch 41/100\n",
      "1/1 [==============================] - 0s 3ms/step - loss: 0.2419 - accuracy: 0.9100\n",
      "Epoch 42/100\n",
      "1/1 [==============================] - 0s 3ms/step - loss: 0.2369 - accuracy: 0.9400\n",
      "Epoch 43/100\n",
      "1/1 [==============================] - 0s 2ms/step - loss: 0.2367 - accuracy: 0.9200\n",
      "Epoch 44/100\n",
      "1/1 [==============================] - 0s 3ms/step - loss: 0.2313 - accuracy: 0.9400\n",
      "Epoch 45/100\n",
      "1/1 [==============================] - 0s 2ms/step - loss: 0.2314 - accuracy: 0.9200\n",
      "Epoch 46/100\n",
      "1/1 [==============================] - 0s 3ms/step - loss: 0.2262 - accuracy: 0.9400\n",
      "Epoch 47/100\n",
      "1/1 [==============================] - 0s 3ms/step - loss: 0.2270 - accuracy: 0.9200\n",
      "Epoch 48/100\n",
      "1/1 [==============================] - 0s 2ms/step - loss: 0.2222 - accuracy: 0.9400\n",
      "Epoch 49/100\n",
      "1/1 [==============================] - 0s 2ms/step - loss: 0.2236 - accuracy: 0.9200\n",
      "Epoch 50/100\n",
      "1/1 [==============================] - 0s 3ms/step - loss: 0.2186 - accuracy: 0.9400\n",
      "Epoch 51/100\n",
      "1/1 [==============================] - 0s 3ms/step - loss: 0.2202 - accuracy: 0.9200\n",
      "Epoch 52/100\n",
      "1/1 [==============================] - 0s 3ms/step - loss: 0.2148 - accuracy: 0.9400\n",
      "Epoch 53/100\n",
      "1/1 [==============================] - 0s 2ms/step - loss: 0.2162 - accuracy: 0.9200\n",
      "Epoch 54/100\n",
      "1/1 [==============================] - 0s 2ms/step - loss: 0.2104 - accuracy: 0.9400\n",
      "Epoch 55/100\n",
      "1/1 [==============================] - 0s 3ms/step - loss: 0.2118 - accuracy: 0.9300\n",
      "Epoch 56/100\n",
      "1/1 [==============================] - 0s 3ms/step - loss: 0.2060 - accuracy: 0.9500\n",
      "Epoch 57/100\n",
      "1/1 [==============================] - 0s 2ms/step - loss: 0.2078 - accuracy: 0.9300\n",
      "Epoch 58/100\n",
      "1/1 [==============================] - 0s 4ms/step - loss: 0.2021 - accuracy: 0.9500\n",
      "Epoch 59/100\n",
      "1/1 [==============================] - 0s 3ms/step - loss: 0.2043 - accuracy: 0.9300\n",
      "Epoch 60/100\n",
      "1/1 [==============================] - 0s 3ms/step - loss: 0.1987 - accuracy: 0.9500\n",
      "Epoch 61/100\n",
      "1/1 [==============================] - 0s 2ms/step - loss: 0.2011 - accuracy: 0.9300\n",
      "Epoch 62/100\n",
      "1/1 [==============================] - 0s 3ms/step - loss: 0.1955 - accuracy: 0.9500\n",
      "Epoch 63/100\n",
      "1/1 [==============================] - 0s 3ms/step - loss: 0.1978 - accuracy: 0.9300\n",
      "Epoch 64/100\n",
      "1/1 [==============================] - 0s 2ms/step - loss: 0.1919 - accuracy: 0.9500\n",
      "Epoch 65/100\n",
      "1/1 [==============================] - 0s 2ms/step - loss: 0.1941 - accuracy: 0.9400\n",
      "Epoch 66/100\n",
      "1/1 [==============================] - 0s 3ms/step - loss: 0.1881 - accuracy: 0.9500\n",
      "Epoch 67/100\n",
      "1/1 [==============================] - 0s 4ms/step - loss: 0.1903 - accuracy: 0.9400\n",
      "Epoch 68/100\n",
      "1/1 [==============================] - 0s 3ms/step - loss: 0.1844 - accuracy: 0.9500\n",
      "Epoch 69/100\n",
      "1/1 [==============================] - 0s 3ms/step - loss: 0.1867 - accuracy: 0.9400\n",
      "Epoch 70/100\n",
      "1/1 [==============================] - 0s 4ms/step - loss: 0.1810 - accuracy: 0.9500\n",
      "Epoch 71/100\n",
      "1/1 [==============================] - 0s 3ms/step - loss: 0.1834 - accuracy: 0.9400\n",
      "Epoch 72/100\n",
      "1/1 [==============================] - 0s 3ms/step - loss: 0.1780 - accuracy: 0.9500\n",
      "Epoch 73/100\n",
      "1/1 [==============================] - 0s 4ms/step - loss: 0.1803 - accuracy: 0.9400\n",
      "Epoch 74/100\n",
      "1/1 [==============================] - 0s 4ms/step - loss: 0.1750 - accuracy: 0.9500\n",
      "Epoch 75/100\n",
      "1/1 [==============================] - 0s 3ms/step - loss: 0.1771 - accuracy: 0.9400\n",
      "Epoch 76/100\n",
      "1/1 [==============================] - 0s 4ms/step - loss: 0.1718 - accuracy: 0.9500\n",
      "Epoch 77/100\n",
      "1/1 [==============================] - 0s 3ms/step - loss: 0.1735 - accuracy: 0.9400\n",
      "Epoch 78/100\n",
      "1/1 [==============================] - 0s 3ms/step - loss: 0.1684 - accuracy: 0.9500\n",
      "Epoch 79/100\n",
      "1/1 [==============================] - 0s 3ms/step - loss: 0.1698 - accuracy: 0.9400\n",
      "Epoch 80/100\n",
      "1/1 [==============================] - 0s 4ms/step - loss: 0.1650 - accuracy: 0.9600\n",
      "Epoch 81/100\n",
      "1/1 [==============================] - 0s 2ms/step - loss: 0.1662 - accuracy: 0.9500\n",
      "Epoch 82/100\n",
      "1/1 [==============================] - 0s 2ms/step - loss: 0.1619 - accuracy: 0.9600\n",
      "Epoch 83/100\n",
      "1/1 [==============================] - 0s 3ms/step - loss: 0.1630 - accuracy: 0.9500\n",
      "Epoch 84/100\n"
     ]
    },
    {
     "name": "stdout",
     "output_type": "stream",
     "text": [
      "1/1 [==============================] - 0s 3ms/step - loss: 0.1593 - accuracy: 0.9600\n",
      "Epoch 85/100\n",
      "1/1 [==============================] - 0s 3ms/step - loss: 0.1601 - accuracy: 0.9500\n",
      "Epoch 86/100\n",
      "1/1 [==============================] - 0s 3ms/step - loss: 0.1568 - accuracy: 0.9600\n",
      "Epoch 87/100\n",
      "1/1 [==============================] - 0s 3ms/step - loss: 0.1571 - accuracy: 0.9500\n",
      "Epoch 88/100\n",
      "1/1 [==============================] - 0s 3ms/step - loss: 0.1540 - accuracy: 0.9600\n",
      "Epoch 89/100\n",
      "1/1 [==============================] - 0s 3ms/step - loss: 0.1537 - accuracy: 0.9500\n",
      "Epoch 90/100\n",
      "1/1 [==============================] - 0s 3ms/step - loss: 0.1509 - accuracy: 0.9600\n",
      "Epoch 91/100\n",
      "1/1 [==============================] - 0s 3ms/step - loss: 0.1501 - accuracy: 0.9500\n",
      "Epoch 92/100\n",
      "1/1 [==============================] - 0s 3ms/step - loss: 0.1477 - accuracy: 0.9600\n",
      "Epoch 93/100\n",
      "1/1 [==============================] - 0s 2ms/step - loss: 0.1466 - accuracy: 0.9500\n",
      "Epoch 94/100\n",
      "1/1 [==============================] - 0s 2ms/step - loss: 0.1449 - accuracy: 0.9600\n",
      "Epoch 95/100\n",
      "1/1 [==============================] - 0s 4ms/step - loss: 0.1438 - accuracy: 0.9500\n",
      "Epoch 96/100\n",
      "1/1 [==============================] - 0s 3ms/step - loss: 0.1429 - accuracy: 0.9600\n",
      "Epoch 97/100\n",
      "1/1 [==============================] - 0s 3ms/step - loss: 0.1417 - accuracy: 0.9600\n",
      "Epoch 98/100\n",
      "1/1 [==============================] - 0s 3ms/step - loss: 0.1414 - accuracy: 0.9600\n",
      "Epoch 99/100\n",
      "1/1 [==============================] - 0s 2ms/step - loss: 0.1398 - accuracy: 0.9600\n",
      "Epoch 100/100\n",
      "1/1 [==============================] - 0s 3ms/step - loss: 0.1396 - accuracy: 0.9600\n"
     ]
    }
   ],
   "source": [
    "history = model.fit(x, y,\n",
    "                     epochs = 100,\n",
    "                     batch_size = 128)"
   ]
  },
  {
   "cell_type": "code",
   "execution_count": 32,
   "id": "58b6bffb",
   "metadata": {},
   "outputs": [
    {
     "name": "stdout",
     "output_type": "stream",
     "text": [
      "[<tf.Variable 'ds_nlayer_8/Centroids:0' shape=(3, 1, 2) dtype=float32, numpy=\n",
      "array([[[-0.77164084,  1.7254462 ]],\n",
      "\n",
      "       [[ 1.0817016 ,  0.4745864 ]],\n",
      "\n",
      "       [[ 0.11011313,  0.2755728 ]]], dtype=float32)>, <tf.Variable 'ds_nlayer_8/Radius:0' shape=(3, 1) dtype=float32, numpy=\n",
      "array([[2.0047734 ],\n",
      "       [0.27544513],\n",
      "       [0.4833512 ]], dtype=float32)>, <tf.Variable 'dense_8/kernel:0' shape=(3, 1) dtype=float32, numpy=\n",
      "array([[-6.8109407],\n",
      "       [-4.6778665],\n",
      "       [ 5.2952886]], dtype=float32)>, <tf.Variable 'dense_8/bias:0' shape=(1,) dtype=float32, numpy=array([0.07199088], dtype=float32)>]\n"
     ]
    },
    {
     "data": {
      "image/png": "[encoded data removed]",
      "text/plain": [
       "<Figure size 432x288 with 1 Axes>"
      ]
     },
     "metadata": {
      "needs_background": "light"
     },
     "output_type": "display_data"
    }
   ],
   "source": [
    "from mlxtend.plotting import plot_decision_regions\n",
    "plot_decision_regions(x,y, clf=model, legend=2)\n",
    "print(model.weights)\n"
   ]
  },
  {
   "cell_type": "code",
   "execution_count": 33,
   "id": "8d87e63e",
   "metadata": {},
   "outputs": [
    {
     "name": "stdout",
     "output_type": "stream",
     "text": [
      "[<tf.Variable 'ds_nlayer_8/Centroids:0' shape=(3, 1, 2) dtype=float32, numpy=\n",
      "array([[[-0.77164084,  1.7254462 ]],\n",
      "\n",
      "       [[ 1.0817016 ,  0.4745864 ]],\n",
      "\n",
      "       [[ 0.11011313,  0.2755728 ]]], dtype=float32)>, <tf.Variable 'ds_nlayer_8/Radius:0' shape=(3, 1) dtype=float32, numpy=\n",
      "array([[2.0047734 ],\n",
      "       [0.27544513],\n",
      "       [0.4833512 ]], dtype=float32)>, <tf.Variable 'dense_8/kernel:0' shape=(3, 1) dtype=float32, numpy=\n",
      "array([[-6.8109407],\n",
      "       [-4.6778665],\n",
      "       [ 5.2952886]], dtype=float32)>, <tf.Variable 'dense_8/bias:0' shape=(1,) dtype=float32, numpy=array([0.07199088], dtype=float32)>]\n"
     ]
    },
    {
     "data": {
      "image/png": "[encoded data removed]",
      "text/plain": [
       "<Figure size 432x288 with 1 Axes>"
      ]
     },
     "metadata": {
      "needs_background": "light"
     },
     "output_type": "display_data"
    }
   ],
   "source": [
    "from mlxtend.plotting import plot_decision_regions\n",
    "plot_decision_regions(x,y, clf=model, legend=2)\n",
    "print(model.weights)\n"
   ]
  },
  {
   "cell_type": "code",
   "execution_count": 24,
   "id": "cbdaa8fc",
   "metadata": {},
   "outputs": [
    {
     "data": {
      "text/plain": [
       "Text(0, 0.5, 'x2')"
      ]
     },
     "execution_count": 24,
     "metadata": {},
     "output_type": "execute_result"
    },
    {
     "data": {
      "image/png": "[encoded data removed]",
      "text/plain": [
       "<Figure size 432x288 with 1 Axes>"
      ]
     },
     "metadata": {
      "needs_background": "light"
     },
     "output_type": "display_data"
    }
   ],
   "source": [
    "# Decision Boundary\n",
    "h = 0.02\n",
    "scale = 10\n",
    "x_min, x_max = x[:, 0].min() - scale, x[:, 0].max() + scale\n",
    "y_min, y_max = x[:, 1].min() - scale, x[:, 1].max() + scale\n",
    "xx, yy = np.meshgrid(np.arange(x_min, x_max, h),\n",
    "                     np.arange(y_min, y_max, h))\n",
    "\n",
    "Z = np.c_[xx.ravel(), yy.ravel()]\n",
    "out = model.predict(Z, batch_size = 1024, verbose = 0)\n",
    "\n",
    "out = (out >= 0.5).astype(int)\n",
    "out = out.reshape(xx.shape)\n",
    "\n",
    "plt.contourf(xx, yy, out)\n",
    "plt.scatter(x[:, 0], x[:, 1], c = y)\n",
    "plt.xlabel('x1')\n",
    "plt.ylabel('x2')"
   ]
  },
  {
   "cell_type": "code",
   "execution_count": null,
   "id": "282d80b7",
   "metadata": {},
   "outputs": [],
   "source": [
    "h = 0.02\n",
    "scale = 1\n",
    "x_min, x_max = x[:, 0].min() - scale, x[:, 0].max() + scale\n",
    "y_min, y_max = x[:, 1].min() - scale, x[:, 1].max() + scale\n",
    "xx, yy = np.meshgrid(np.arange(x_min, x_max, h),\n",
    "                     np.arange(y_min, y_max, h))\n",
    "\n",
    "Z = np.c_[xx.ravel(), yy.ravel()]\n",
    "out = model.predict(Z, batch_size = 1024, verbose = 0)\n",
    "\n",
    "out = (out <= 0.5).astype(int)\n",
    "out = out.reshape(xx.shape)\n",
    "\n",
    "plt.contourf(xx, yy, out)\n",
    "plt.scatter(x[:, 0], x[:, 1], c = y)\n",
    "plt.xlabel('x1')\n",
    "plt.ylabel('x2')"
   ]
  },
  {
   "cell_type": "code",
   "execution_count": null,
   "id": "5dab075b",
   "metadata": {},
   "outputs": [],
   "source": [
    "from sklearn.datasets import make_blobs\n",
    "from keras.utils import to_categorical\n",
    "\n",
    "Xb, yb = make_blobs(n_samples=300, centers=3, n_features=2,\n",
    "                  random_state=0)\n",
    "\n",
    "Yb = to_categorical(yb)\n",
    "#Yb = Yb[:,1:] \n",
    "#print(Yb)\n",
    "\n",
    "\n",
    "\n",
    "fig, ax = plt.subplots()\n",
    "\n",
    "ax.scatter(Xb[:, 0], Xb[:, 1], marker='o', c=yb,\n",
    "            s=25, edgecolor='k')\n",
    "\n",
    "plt.show()"
   ]
  },
  {
   "cell_type": "code",
   "execution_count": null,
   "id": "40be5a56",
   "metadata": {},
   "outputs": [],
   "source": [
    "print(len(yb))\n",
    "#dendrites = HBpC(Xb,yb)\n",
    "#dendrites = HEpC(Xb,yb)\n",
    "dendrites = HSpC.HSpC(Xb,yb)\n",
    "#dendrites = bkmeans(Xb,yb,[3,3,3])\n",
    "#dendrites = ekmeans(Xb,yb,[5,5,5])\n",
    "#dendrites = skmeans(Xb,yb,[5,5,5])\n",
    "\n",
    "print(dendrites)\n"
   ]
  },
  {
   "cell_type": "code",
   "execution_count": null,
   "id": "400f5673",
   "metadata": {},
   "outputs": [],
   "source": [
    "dendrites[0].shape"
   ]
  },
  {
   "cell_type": "code",
   "execution_count": null,
   "id": "cccdbf75",
   "metadata": {},
   "outputs": [],
   "source": [
    "def TestModel():  \n",
    "   model = Sequential()\n",
    "   model.add(DSNlayer(40, dendrites,activation='relu', input_shape = (np.shape(Xb)[1],)))\n",
    "   \n",
    "   #model.add(DENlayer(6, activation = 'sigmoid' ))\n",
    "   model.add(Dense(3, activation = 'softmax')) \n",
    "   return model\n",
    "\n",
    "#yb =  to_categorical(yb, dtype =\"uint8\") \n",
    "\n",
    "model = TestModel()\n",
    "model.summary()\n",
    "model.compile(optimizer = optimizers.RMSprop(lr = 0.01),\n",
    "             loss = 'categorical_crossentropy',\n",
    "             metrics = ['accuracy'])\n",
    "\n"
   ]
  },
  {
   "cell_type": "code",
   "execution_count": null,
   "id": "b939d414",
   "metadata": {},
   "outputs": [],
   "source": [
    "history = model.fit(Xb, Yb,\n",
    "                    epochs = 2000,\n",
    "                    batch_size = 128)\n"
   ]
  },
  {
   "cell_type": "code",
   "execution_count": null,
   "id": "c841bec2",
   "metadata": {},
   "outputs": [],
   "source": [
    "# Decision Boundary\n",
    "h = 0.02\n",
    "scale = 1\n",
    "x_min, x_max = Xb[:, 0].min() - scale, Xb[:, 0].max() + scale\n",
    "y_min, y_max = Xb[:, 1].min() - scale, Xb[:, 1].max() + scale\n",
    "xx, yy = np.meshgrid(np.arange(x_min, x_max, h),\n",
    "                     np.arange(y_min, y_max, h))\n",
    "\n",
    "Z = np.c_[xx.ravel(), yy.ravel()]\n",
    "out = model.predict(Z, batch_size = 1024, verbose = 0)\n",
    "print(out.shape)\n",
    "\n",
    "print(type(out))\n",
    "out2 = np.zeros(out.shape[0])\n",
    "\n",
    "for n in range(out.shape[0]):\n",
    "    out2[n] = np.argmax(out[n])\n",
    "          \n",
    "    \n",
    "print((out2))\n",
    "out2 = out2.reshape(xx.shape)\n",
    "\n",
    "#out = (out >= 0.5).astype(int)\n",
    "#out = out.reshape(xx.shape)\n",
    "\n",
    "plt.contourf(xx, yy, out2)\n",
    "plt.scatter(Xb[:, 0], Xb[:, 1], c = yb)\n",
    "plt.xlabel('x1')\n",
    "plt.ylabel('x2')"
   ]
  }
 ],
 "metadata": {
  "kernelspec": {
   "display_name": "Python 3 (ipykernel)",
   "language": "python",
   "name": "python3"
  },
  "language_info": {
   "codemirror_mode": {
    "name": "ipython",
    "version": 3
   },
   "file_extension": ".py",
   "mimetype": "text/x-python",
   "name": "python",
   "nbconvert_exporter": "python",
   "pygments_lexer": "ipython3",
   "version": "3.8.12"
  }
 },
 "nbformat": 4,
 "nbformat_minor": 5
}
