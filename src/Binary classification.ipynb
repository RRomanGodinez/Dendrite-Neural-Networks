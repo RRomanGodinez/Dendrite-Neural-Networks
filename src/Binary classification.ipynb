{
 "cells": [
  {
   "cell_type": "code",
   "execution_count": 2,
   "id": "neutral-model",
   "metadata": {},
   "outputs": [],
   "source": [
    "from sklearn.datasets import make_moons\n",
    "import numpy as np\n",
    "import matplotlib.pyplot as plt\n",
    "\n",
    "from sklearn.cluster import KMeans\n",
    "from sklearn.metrics.pairwise import euclidean_distances\n",
    "\n",
    "from keras import optimizers\n",
    "from keras.models import Sequential\n",
    "from keras.layers import Dense\n",
    "\n",
    "from DEN import DENlayer\n",
    "from DMN import DMNlayer\n",
    "from DSN import DSNlayer\n",
    "\n",
    "\n",
    "from PreTrain.HpC import HSpC\n",
    "from PreTrain.HpC import HEpC\n",
    "from PreTrain.HpC import HBpC\n",
    "\n",
    "from PreTrain.kmeans import bkmeans\n",
    "from PreTrain.kmeans import ekmeans\n",
    "from PreTrain.kmeans import skmeans\n",
    "\n"
   ]
  },
  {
   "cell_type": "code",
   "execution_count": 3,
   "id": "educated-silly",
   "metadata": {},
   "outputs": [
    {
     "data": {
      "image/png": "[encoded data removed]",
      "text/plain": [
       "<Figure size 432x288 with 1 Axes>"
      ]
     },
     "metadata": {
      "needs_background": "light"
     },
     "output_type": "display_data"
    }
   ],
   "source": [
    "x,y = make_moons(n_samples=100, shuffle=True, noise=None, random_state=None)\n",
    "x=x*1\n",
    "\n",
    "\n",
    "fig, ax = plt.subplots()\n",
    "\n",
    "ax.scatter(x[:, 0], x[:, 1], marker='o', c=y,\n",
    "            s=25, edgecolor='k')\n",
    "\n",
    "\n",
    "plt.show()\n"
   ]
  },
  {
   "cell_type": "code",
   "execution_count": 4,
   "id": "curious-brazil",
   "metadata": {},
   "outputs": [
    {
     "name": "stdout",
     "output_type": "stream",
     "text": [
      "Estamos dentro\n",
      "[0 1]\n",
      "Wmin: [-1.0001, -0.0001] Wmax: [1.0001, 0.9995862162006879]\n",
      "Clusters n [0 1 2]\n",
      "clusters [[ 1.99794539  0.43592978]\n",
      " [ 1.8713187   0.00928245]\n",
      " [ 1.99179001  0.37212284]\n",
      " [ 1.92691676  0.124733  ]\n",
      " [ 1.98155916  0.30884137]\n",
      " [ 1.96729486  0.24634542]\n",
      " [ 1.67230089 -0.240278  ]\n",
      " [ 1.51839257 -0.35514276]\n",
      " [ 1.76144596 -0.1482284 ]\n",
      " [ 1.94905575  0.18489178]\n",
      " [ 1.71834935 -0.19568255]\n",
      " [ 1.6234898  -0.28183148]\n",
      " [ 1.57211666 -0.32017225]\n",
      " [ 1.8380881  -0.0455349 ]\n",
      " [ 1.90096887  0.06611626]\n",
      " [ 2.          0.5       ]\n",
      " [ 1.80141362 -0.09811053]]\n",
      "Dimensiones 2\n",
      "clusters [[ 0.07308324  0.124733  ]\n",
      " [ 0.00205461  0.43592978]\n",
      " [ 0.42788334 -0.32017225]\n",
      " [ 0.32769911 -0.240278  ]\n",
      " [ 0.23855404 -0.1482284 ]\n",
      " [ 0.1286813   0.00928245]\n",
      " [ 0.19858638 -0.09811053]\n",
      " [ 0.00820999  0.37212284]\n",
      " [ 0.09903113  0.06611626]\n",
      " [ 0.1619119  -0.0455349 ]\n",
      " [ 0.          0.5       ]\n",
      " [ 0.01844084  0.30884137]\n",
      " [ 0.28165065 -0.19568255]\n",
      " [ 0.05094425  0.18489178]\n",
      " [ 0.48160743 -0.35514276]\n",
      " [ 0.3765102  -0.28183148]\n",
      " [ 0.03270514  0.24634542]]\n",
      "Dimensiones 2\n",
      "clusters [[ 0.65463495 -0.43846842]\n",
      " [ 1.40478334 -0.41441262]\n",
      " [ 0.8404001  -0.48718178]\n",
      " [ 1.34536505 -0.43846842]\n",
      " [ 0.71547241 -0.45866785]\n",
      " [ 1.46253829 -0.38659931]\n",
      " [ 1.28452759 -0.45866785]\n",
      " [ 1.09602303 -0.49537911]\n",
      " [ 1.22252093 -0.47492791]\n",
      " [ 0.77747907 -0.47492791]\n",
      " [ 1.1595999  -0.48718178]\n",
      " [ 0.59521666 -0.41441262]\n",
      " [ 0.53746171 -0.38659931]\n",
      " [ 0.90397697 -0.49537911]\n",
      " [ 1.03205158 -0.49948622]\n",
      " [ 0.96794842 -0.49948622]]\n",
      "Dimensiones 2\n",
      "centroid: [[[-0.82896744  0.46686576]]\n",
      "\n",
      " [[ 0.03049368  0.95090525]]\n",
      "\n",
      " [[ 0.84837837  0.44259845]]]\n",
      "Covariances: [[[ 0.02528507  0.04141108]\n",
      "  [ 0.04141108  0.07549236]]\n",
      "\n",
      " [[ 0.09871515 -0.00310266]\n",
      "  [-0.00310266  0.00206228]]\n",
      "\n",
      " [[ 0.02013839 -0.0356301 ]\n",
      "  [-0.0356301   0.06984642]]]\n"
     ]
    }
   ],
   "source": [
    "\n",
    "unidades=3\n",
    "hbpc_dendrites  = HBpC.HBpC(x,y,0.0001)\n",
    "hepc_dendrites  = HEpC.HEpC(x,y)\n",
    "hspc_dendrites  = HSpC.HSpC(x,y,0.0001)\n",
    "bkmeans_dendrites  = bkmeans.bkmeans(x,y,[3,3,3],0.01)\n",
    "ekmeans_dendrites  = ekmeans.ekmeans(x,y,[3])\n",
    "skmeans_dendrites  = skmeans.skmeans(x,y,[2],0.01)\n",
    "\n"
   ]
  },
  {
   "cell_type": "code",
   "execution_count": 10,
   "id": "73e8ec46",
   "metadata": {
    "scrolled": true
   },
   "outputs": [
    {
     "name": "stdout",
     "output_type": "stream",
     "text": [
      "Model: \"sequential_2\"\n",
      "_________________________________________________________________\n",
      "Layer (type)                 Output Shape              Param #   \n",
      "=================================================================\n",
      "de_nlayer_1 (DENlayer)       (None, 1)                 6         \n",
      "_________________________________________________________________\n",
      "dense_1 (Dense)              (None, 1)                 2         \n",
      "=================================================================\n",
      "Total params: 8\n",
      "Trainable params: 8\n",
      "Non-trainable params: 0\n",
      "_________________________________________________________________\n"
     ]
    }
   ],
   "source": [
    "\n",
    "def DEN_Test(n_dendrites, dendrites):\n",
    "    model = Sequential()\n",
    "    model.add(DENlayer(n_dendrites, dendrites, activation = \"sigmoid\", input_shape = (np.shape(x)[1],)))\n",
    "    model.add(Dense(1, activation = 'sigmoid')) \n",
    "    return model\n",
    "\n",
    "\n"
   ]
  },
  {
   "cell_type": "code",
   "execution_count": 12,
   "id": "3cc866f2",
   "metadata": {},
   "outputs": [
    {
     "name": "stdout",
     "output_type": "stream",
     "text": [
      "WARNING:tensorflow:AutoGraph could not transform <bound method DSNlayer.call of <DSN.DSNlayer object at 0x000001D5E556B700>> and will run it as-is.\n",
      "Please report this to the TensorFlow team. When filing the bug, set the verbosity to 10 (on Linux, `export AUTOGRAPH_VERBOSITY=10`) and attach the full output.\n",
      "Cause: module 'gast' has no attribute 'Index'\n",
      "To silence this warning, decorate the function with @tf.autograph.experimental.do_not_convert\n",
      "WARNING: AutoGraph could not transform <bound method DSNlayer.call of <DSN.DSNlayer object at 0x000001D5E556B700>> and will run it as-is.\n",
      "Please report this to the TensorFlow team. When filing the bug, set the verbosity to 10 (on Linux, `export AUTOGRAPH_VERBOSITY=10`) and attach the full output.\n",
      "Cause: module 'gast' has no attribute 'Index'\n",
      "To silence this warning, decorate the function with @tf.autograph.experimental.do_not_convert\n",
      "Model: \"sequential_4\"\n",
      "_________________________________________________________________\n",
      "Layer (type)                 Output Shape              Param #   \n",
      "=================================================================\n",
      "ds_nlayer_1 (DSNlayer)       (None, 1)                 3         \n",
      "_________________________________________________________________\n",
      "dense_2 (Dense)              (None, 1)                 2         \n",
      "=================================================================\n",
      "Total params: 5\n",
      "Trainable params: 5\n",
      "Non-trainable params: 0\n",
      "_________________________________________________________________\n"
     ]
    }
   ],
   "source": [
    "def DSN_Test(n_dendrites, dendrites):\n",
    "    model = Sequential()\n",
    "    model.add(DSNlayer(n_dendrites, dendrites, activation = \"sigmoid\", input_shape = (np.shape(x)[1],)))\n",
    "    model.add(Dense(1, activation = 'sigmoid')) \n",
    "    return model\n",
    "\n"
   ]
  },
  {
   "cell_type": "code",
   "execution_count": 13,
   "id": "69e2a8a5",
   "metadata": {},
   "outputs": [
    {
     "name": "stdout",
     "output_type": "stream",
     "text": [
      "WARNING:tensorflow:AutoGraph could not transform <bound method DMNlayer.call of <DMN.DMNlayer object at 0x000001D5E575B850>> and will run it as-is.\n",
      "Please report this to the TensorFlow team. When filing the bug, set the verbosity to 10 (on Linux, `export AUTOGRAPH_VERBOSITY=10`) and attach the full output.\n",
      "Cause: module 'gast' has no attribute 'Index'\n",
      "To silence this warning, decorate the function with @tf.autograph.experimental.do_not_convert\n",
      "WARNING: AutoGraph could not transform <bound method DMNlayer.call of <DMN.DMNlayer object at 0x000001D5E575B850>> and will run it as-is.\n",
      "Please report this to the TensorFlow team. When filing the bug, set the verbosity to 10 (on Linux, `export AUTOGRAPH_VERBOSITY=10`) and attach the full output.\n",
      "Cause: module 'gast' has no attribute 'Index'\n",
      "To silence this warning, decorate the function with @tf.autograph.experimental.do_not_convert\n",
      "Model: \"sequential_5\"\n",
      "_________________________________________________________________\n",
      "Layer (type)                 Output Shape              Param #   \n",
      "=================================================================\n",
      "dm_nlayer (DMNlayer)         (None, 1)                 4         \n",
      "_________________________________________________________________\n",
      "dense_3 (Dense)              (None, 1)                 2         \n",
      "=================================================================\n",
      "Total params: 6\n",
      "Trainable params: 6\n",
      "Non-trainable params: 0\n",
      "_________________________________________________________________\n"
     ]
    }
   ],
   "source": [
    "def DMN_Test(n_dendrites, dendrites):\n",
    "    model = Sequential()\n",
    "    model.add(DMNlayer(n_dendrites, dendrites, activation = \"sigmoid\", input_shape = (np.shape(x)[1],)))\n",
    "    model.add(Dense(1, activation = 'sigmoid')) \n",
    "    return model\n",
    "\n"
   ]
  },
  {
   "cell_type": "code",
   "execution_count": 14,
   "id": "c6dd8433",
   "metadata": {},
   "outputs": [
    {
     "name": "stdout",
     "output_type": "stream",
     "text": [
      "Model: \"sequential_6\"\n",
      "_________________________________________________________________\n",
      "Layer (type)                 Output Shape              Param #   \n",
      "=================================================================\n",
      "ds_nlayer_2 (DSNlayer)       (None, 1)                 3         \n",
      "_________________________________________________________________\n",
      "dense_4 (Dense)              (None, 1)                 2         \n",
      "=================================================================\n",
      "Total params: 5\n",
      "Trainable params: 5\n",
      "Non-trainable params: 0\n",
      "_________________________________________________________________\n"
     ]
    }
   ],
   "source": [
    "\n",
    "\n",
    "model = DSN_Test(0,hspc_dendrites)  #DMN_Test()/DEN_Test/DSN_Test\n",
    "model.summary()\n",
    "model.compile(optimizer = optimizers.RMSprop(lr = 0.05),\n",
    "             loss = 'binary_crossentropy',\n",
    "             metrics = ['accuracy'])"
   ]
  },
  {
   "cell_type": "code",
   "execution_count": null,
   "id": "a1d0d448",
   "metadata": {},
   "outputs": [],
   "source": [
    "history = model.fit(x, y,\n",
    "                     epochs = 10,\n",
    "                     batch_size = 128)"
   ]
  },
  {
   "cell_type": "code",
   "execution_count": null,
   "id": "cbdaa8fc",
   "metadata": {},
   "outputs": [],
   "source": [
    "# Decision Boundary\n",
    "h = 0.02\n",
    "scale = 10\n",
    "x_min, x_max = x[:, 0].min() - scale, x[:, 0].max() + scale\n",
    "y_min, y_max = x[:, 1].min() - scale, x[:, 1].max() + scale\n",
    "xx, yy = np.meshgrid(np.arange(x_min, x_max, h),\n",
    "                     np.arange(y_min, y_max, h))\n",
    "\n",
    "Z = np.c_[xx.ravel(), yy.ravel()]\n",
    "out = model.predict(Z, batch_size = 1024, verbose = 0)\n",
    "\n",
    "out = (out >= 0.5).astype(int)\n",
    "out = out.reshape(xx.shape)\n",
    "\n",
    "plt.contourf(xx, yy, out)\n",
    "plt.scatter(x[:, 0], x[:, 1], c = y)\n",
    "plt.xlabel('x1')\n",
    "plt.ylabel('x2')"
   ]
  },
  {
   "cell_type": "code",
   "execution_count": null,
   "id": "5dab075b",
   "metadata": {},
   "outputs": [],
   "source": [
    "from sklearn.datasets import make_blobs\n",
    "from keras.utils import to_categorical\n",
    "\n",
    "Xb, yb = make_blobs(n_samples=300, centers=3, n_features=2,\n",
    "                  random_state=0)\n",
    "\n",
    "Yb = to_categorical(yb)\n",
    "#Yb = Yb[:,1:] \n",
    "#print(Yb)\n",
    "\n",
    "\n",
    "\n",
    "fig, ax = plt.subplots()\n",
    "\n",
    "ax.scatter(Xb[:, 0], Xb[:, 1], marker='o', c=yb,\n",
    "            s=25, edgecolor='k')\n",
    "\n",
    "plt.show()"
   ]
  },
  {
   "cell_type": "code",
   "execution_count": null,
   "id": "40be5a56",
   "metadata": {},
   "outputs": [],
   "source": [
    "print(len(yb))\n",
    "#dendrites = HBpC(Xb,yb)\n",
    "#dendrites = HEpC(Xb,yb)\n",
    "dendrites = HSpC.HSpC(Xb,yb)\n",
    "#dendrites = bkmeans(Xb,yb,[3,3,3])\n",
    "#dendrites = ekmeans(Xb,yb,[5,5,5])\n",
    "#dendrites = skmeans(Xb,yb,[5,5,5])\n",
    "\n",
    "print(dendrites)\n"
   ]
  },
  {
   "cell_type": "code",
   "execution_count": null,
   "id": "400f5673",
   "metadata": {},
   "outputs": [],
   "source": [
    "dendrites[0].shape"
   ]
  },
  {
   "cell_type": "code",
   "execution_count": null,
   "id": "cccdbf75",
   "metadata": {},
   "outputs": [],
   "source": [
    "def TestModel():  \n",
    "   model = Sequential()\n",
    "   model.add(DSNlayer(40, dendrites,activation='relu', input_shape = (np.shape(Xb)[1],)))\n",
    "   \n",
    "   #model.add(DENlayer(6, activation = 'sigmoid' ))\n",
    "   model.add(Dense(3, activation = 'softmax')) \n",
    "   return model\n",
    "\n",
    "#yb =  to_categorical(yb, dtype =\"uint8\") \n",
    "\n",
    "model = TestModel()\n",
    "model.summary()\n",
    "model.compile(optimizer = optimizers.RMSprop(lr = 0.01),\n",
    "             loss = 'categorical_crossentropy',\n",
    "             metrics = ['accuracy'])\n",
    "\n"
   ]
  },
  {
   "cell_type": "code",
   "execution_count": null,
   "id": "b939d414",
   "metadata": {},
   "outputs": [],
   "source": [
    "history = model.fit(Xb, Yb,\n",
    "                    epochs = 2000,\n",
    "                    batch_size = 128)\n"
   ]
  },
  {
   "cell_type": "code",
   "execution_count": null,
   "id": "c841bec2",
   "metadata": {},
   "outputs": [],
   "source": [
    "# Decision Boundary\n",
    "h = 0.02\n",
    "scale = 1\n",
    "x_min, x_max = Xb[:, 0].min() - scale, Xb[:, 0].max() + scale\n",
    "y_min, y_max = Xb[:, 1].min() - scale, Xb[:, 1].max() + scale\n",
    "xx, yy = np.meshgrid(np.arange(x_min, x_max, h),\n",
    "                     np.arange(y_min, y_max, h))\n",
    "\n",
    "Z = np.c_[xx.ravel(), yy.ravel()]\n",
    "out = model.predict(Z, batch_size = 1024, verbose = 0)\n",
    "print(out.shape)\n",
    "\n",
    "print(type(out))\n",
    "out2 = np.zeros(out.shape[0])\n",
    "\n",
    "for n in range(out.shape[0]):\n",
    "    out2[n] = np.argmax(out[n])\n",
    "          \n",
    "    \n",
    "print((out2))\n",
    "out2 = out2.reshape(xx.shape)\n",
    "\n",
    "#out = (out >= 0.5).astype(int)\n",
    "#out = out.reshape(xx.shape)\n",
    "\n",
    "plt.contourf(xx, yy, out2)\n",
    "plt.scatter(Xb[:, 0], Xb[:, 1], c = yb)\n",
    "plt.xlabel('x1')\n",
    "plt.ylabel('x2')"
   ]
  }
 ],
 "metadata": {
  "kernelspec": {
   "display_name": "Python 3",
   "language": "python",
   "name": "python3"
  },
  "language_info": {
   "codemirror_mode": {
    "name": "ipython",
    "version": 3
   },
   "file_extension": ".py",
   "mimetype": "text/x-python",
   "name": "python",
   "nbconvert_exporter": "python",
   "pygments_lexer": "ipython3",
   "version": "3.8.8"
  }
 },
 "nbformat": 4,
 "nbformat_minor": 5
}
